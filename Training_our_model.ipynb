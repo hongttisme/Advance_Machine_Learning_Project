{
 "cells": [
  {
   "cell_type": "code",
   "execution_count": null,
   "id": "52754e46",
   "metadata": {},
   "outputs": [
    {
     "name": "stdout",
     "output_type": "stream",
     "text": [
      "created 64 nodes\n",
      "created 1792 edge\n",
      "current state (FEN): r1bqkbnr/pppp1ppp/2n5/1B2p3/4P3/5N2/PPPP1PPP/RNBQK2R b KQkq - 3 3\n",
      "\n",
      "encode result:\n",
      "node matrix shape: (64, 21)\n",
      "edge matrix shape: (1792, 11)\n",
      "--- Static Graph Components ---\n",
      "static_edge_index shape: torch.Size([2, 1792])\n",
      "static_edge_map shape: torch.Size([1792])\n",
      "------------------------------\n"
     ]
    }
   ],
   "source": [
    "from our_model import  ChessGNN\n",
    "from graph_encode import base_graph_edges,move_to_index,index_to_move,adjacency_list, node_feature_matrix,edge_feature_matrix, encode_node_features, create_batch_from_boards, static_edge_index\n",
    "import pandas as pd\n",
    "from tqdm import tqdm\n",
    "import os"
   ]
  },
  {
   "cell_type": "code",
   "execution_count": 2,
   "id": "38a551be",
   "metadata": {},
   "outputs": [],
   "source": [
    "import torch\n",
    "import torch.nn as nn\n",
    "import torch.optim as optim\n",
    "from torch.utils.data import Dataset, DataLoader\n",
    "import random\n",
    "import numpy as np\n",
    "import chess\n",
    "\n",
    "\n",
    "NODE_IN_FEATURES = 21   \n",
    "EDGE_IN_FEATURES = 11  \n",
    "NODE_OUT_FEATURES = 1   \n",
    "\n",
    "LEARNING_RATE = 0.001\n",
    "EPOCHS = 100\n",
    "BATCH_SIZE = 64"
   ]
  },
  {
   "cell_type": "code",
   "execution_count": 3,
   "id": "4786fad5",
   "metadata": {},
   "outputs": [],
   "source": [
    "def uci_to_index(uci_move):\n",
    "    try:\n",
    "        move = chess.Move.from_uci(uci_move)\n",
    "        return move_to_index[chess.Move(move.from_square, move.to_square)]\n",
    "    except:\n",
    "        print(\"error encode!!\", chess.Move.from_uci(uci_move)) \n",
    "        return -1\n",
    "\n",
    "def state_to_tensor(board: chess.Board):\n",
    "    tensor = encode_node_features(board)\n",
    "    return tensor.T.reshape((21, 8, 8))\n",
    "\n",
    "\n",
    "def result_to_value(result: str):\n",
    "    if result == '1-0': return 1.0\n",
    "    elif result == '0-1': return -1.0\n",
    "    return 0.0"
   ]
  },
  {
   "cell_type": "code",
   "execution_count": 4,
   "id": "1ec0f970",
   "metadata": {},
   "outputs": [],
   "source": [
    "class GraphChessDataset(Dataset):\n",
    "\n",
    "    def __init__(self, dataframe):\n",
    "        self.df = dataframe\n",
    "\n",
    "    def __len__(self):\n",
    "        return len(self.df)\n",
    "\n",
    "    def __getitem__(self, idx):\n",
    "        row = self.df.iloc[idx]\n",
    "        moves_uci = row['Moves_UCI'].split()\n",
    "        result = row['Result']\n",
    "\n",
    "        if len(moves_uci) < 2:\n",
    "            return self.__getitem__(random.randint(0, len(self) - 1))\n",
    "\n",
    "        move_idx_to_play = random.randint(0, len(moves_uci) - 1)\n",
    "        board = chess.Board()\n",
    "\n",
    "        for move_uci in moves_uci[:move_idx_to_play]:\n",
    "            try:\n",
    "                board.push_uci(move_uci)\n",
    "            except chess.IllegalMoveError:\n",
    "                return self.__getitem__(random.randint(0, len(self) - 1))\n",
    "\n",
    "        target_move_uci = moves_uci[move_idx_to_play]\n",
    "        policy_target = uci_to_index(target_move_uci)\n",
    "        \n",
    "        if policy_target == -1:\n",
    "             return self.__getitem__(random.randint(0, len(self) - 1))\n",
    "\n",
    "        value_target = result_to_value(result)\n",
    "        if board.turn == chess.BLACK:\n",
    "            value_target = -value_target\n",
    "        \n",
    "        return board, policy_target, value_target"
   ]
  },
  {
   "cell_type": "code",
   "execution_count": 5,
   "id": "51fc2ad0",
   "metadata": {},
   "outputs": [],
   "source": [
    "def collate_graph_data(batch):\n",
    "\n",
    "    boards, policy_targets, value_targets = zip(*batch)\n",
    "\n",
    "    batched_graph_data = create_batch_from_boards(list(boards))\n",
    "\n",
    "    policy_targets = torch.tensor(policy_targets, dtype=torch.long)\n",
    "    value_targets = torch.tensor(value_targets, dtype=torch.float32).unsqueeze(1) \n",
    "\n",
    "    return batched_graph_data, policy_targets, value_targets"
   ]
  },
  {
   "cell_type": "code",
   "execution_count": 6,
   "id": "00ec8273",
   "metadata": {},
   "outputs": [],
   "source": [
    "def count_parameters(model):\n",
    "    total_params = sum(p.numel() for p in model.parameters())\n",
    "    trainable_params = sum(p.numel() for p in model.parameters() if p.requires_grad)\n",
    "    return total_params, trainable_params\n"
   ]
  },
  {
   "cell_type": "code",
   "execution_count": 7,
   "id": "bde15d74",
   "metadata": {},
   "outputs": [],
   "source": [
    "CSV_FILE_PATH = 'C:\\\\Users\\\\tan04\\\\Documents\\\\codeplace\\\\AI\\\\advance ML\\\\Advance_Machine_Learning_Project\\\\kingbase_processed_all.csv'\n",
    "# df = pd.read_csv(CSV_FILE_PATH)\n",
    "\n",
    "df = pd.read_csv('kingbase_processed_all.csv')\n",
    "\n",
    "chess_dataset = GraphChessDataset(df)\n",
    "\n",
    "BATCH_SIZE = 4\n",
    "data_loader = DataLoader(\n",
    "    dataset=chess_dataset,\n",
    "    batch_size=BATCH_SIZE,\n",
    "    shuffle=True,\n",
    "    collate_fn=collate_graph_data\n",
    ")\n",
    "\n"
   ]
  },
  {
   "cell_type": "code",
   "execution_count": 10,
   "id": "383b9751",
   "metadata": {},
   "outputs": [
    {
     "name": "stdout",
     "output_type": "stream",
     "text": [
      "Training script is defined. Uncomment 'train_chess_model()' to run.\n",
      "Using device: cuda\n"
     ]
    },
    {
     "name": "stderr",
     "output_type": "stream",
     "text": [
      "C:\\Users\\tan04\\AppData\\Local\\Temp\\ipykernel_19116\\3851658140.py:58: FutureWarning: You are using `torch.load` with `weights_only=False` (the current default value), which uses the default pickle module implicitly. It is possible to construct malicious pickle data which will execute arbitrary code during unpickling (See https://github.com/pytorch/pytorch/blob/main/SECURITY.md#untrusted-models for more details). In a future release, the default value for `weights_only` will be flipped to `True`. This limits the functions that could be executed during unpickling. Arbitrary objects will no longer be allowed to be loaded via this mode unless they are explicitly allowlisted by the user via `torch.serialization.add_safe_globals`. We recommend you start setting `weights_only=True` for any use case where you don't have full control of the loaded file. Please open an issue on GitHub for any issues related to this experimental feature.\n",
      "  checkpoint = torch.load(latest_checkpoint_path, map_location=device)\n"
     ]
    },
    {
     "name": "stdout",
     "output_type": "stream",
     "text": [
      "Resuming training from checkpoint: checkpoints of our model\\checkpoint_epoch_30.pth\n",
      "Loaded model state from epoch 30. Starting from epoch 31.\n",
      "Starting training...\n",
      "Total parameters: 7,234,433\n",
      "Trainable parameters: 7,234,433\n",
      "\n",
      "\n"
     ]
    },
    {
     "name": "stderr",
     "output_type": "stream",
     "text": [
      "                                                                               \r"
     ]
    },
    {
     "name": "stdout",
     "output_type": "stream",
     "text": [
      "Epoch [31/40], Average Loss: 3.3841\n",
      "Checkpoint saved to checkpoints of our model\\checkpoint_epoch_31.pth\n"
     ]
    },
    {
     "name": "stderr",
     "output_type": "stream",
     "text": [
      "                                                                               \r"
     ]
    },
    {
     "name": "stdout",
     "output_type": "stream",
     "text": [
      "Epoch [32/40], Average Loss: 3.3778\n",
      "Checkpoint saved to checkpoints of our model\\checkpoint_epoch_32.pth\n"
     ]
    },
    {
     "name": "stderr",
     "output_type": "stream",
     "text": [
      "                                                                               \r"
     ]
    },
    {
     "name": "stdout",
     "output_type": "stream",
     "text": [
      "Epoch [33/40], Average Loss: 3.3707\n",
      "Checkpoint saved to checkpoints of our model\\checkpoint_epoch_33.pth\n"
     ]
    },
    {
     "name": "stderr",
     "output_type": "stream",
     "text": [
      "                                                                               \r"
     ]
    },
    {
     "name": "stdout",
     "output_type": "stream",
     "text": [
      "Epoch [34/40], Average Loss: 3.3611\n",
      "Checkpoint saved to checkpoints of our model\\checkpoint_epoch_34.pth\n"
     ]
    },
    {
     "name": "stderr",
     "output_type": "stream",
     "text": [
      "                                                                               \r"
     ]
    },
    {
     "name": "stdout",
     "output_type": "stream",
     "text": [
      "Epoch [35/40], Average Loss: 3.3518\n",
      "Checkpoint saved to checkpoints of our model\\checkpoint_epoch_35.pth\n"
     ]
    },
    {
     "name": "stderr",
     "output_type": "stream",
     "text": [
      "                                                                               \r"
     ]
    },
    {
     "name": "stdout",
     "output_type": "stream",
     "text": [
      "Epoch [36/40], Average Loss: 3.3493\n",
      "Checkpoint saved to checkpoints of our model\\checkpoint_epoch_36.pth\n"
     ]
    },
    {
     "name": "stderr",
     "output_type": "stream",
     "text": [
      "                                                                               \r"
     ]
    },
    {
     "name": "stdout",
     "output_type": "stream",
     "text": [
      "Epoch [37/40], Average Loss: 3.3413\n",
      "Checkpoint saved to checkpoints of our model\\checkpoint_epoch_37.pth\n"
     ]
    },
    {
     "name": "stderr",
     "output_type": "stream",
     "text": [
      "                                                                               \r"
     ]
    },
    {
     "name": "stdout",
     "output_type": "stream",
     "text": [
      "Epoch [38/40], Average Loss: 3.3342\n",
      "Checkpoint saved to checkpoints of our model\\checkpoint_epoch_38.pth\n"
     ]
    },
    {
     "name": "stderr",
     "output_type": "stream",
     "text": [
      "                                                                               \r"
     ]
    },
    {
     "name": "stdout",
     "output_type": "stream",
     "text": [
      "Epoch [39/40], Average Loss: 3.3271\n",
      "Checkpoint saved to checkpoints of our model\\checkpoint_epoch_39.pth\n"
     ]
    },
    {
     "name": "stderr",
     "output_type": "stream",
     "text": [
      "                                                                               \r"
     ]
    },
    {
     "name": "stdout",
     "output_type": "stream",
     "text": [
      "Epoch [40/40], Average Loss: 3.3239\n",
      "Checkpoint saved to checkpoints of our model\\checkpoint_epoch_40.pth\n",
      "Training finished.\n"
     ]
    }
   ],
   "source": [
    "from sklearn.model_selection import train_test_split\n",
    "\n",
    "\n",
    "def train_chess_model(checkpoint_dir='checkpoints of our model'):\n",
    "\n",
    "    NODE_IN_FEATURES = 21\n",
    "    EDGE_IN_FEATURES = 11\n",
    "    GNN_NODE_OUT_FEATURES = 56\n",
    "    NUM_POSSIBLE_MOVES = 1792\n",
    "\n",
    "    EPOCHS = 40\n",
    "    BATCH_SIZE = 128\n",
    "    LEARNING_RATE = 0.001\n",
    "    TEST_SIZE = 0.1\n",
    "    VAL_SIZE = 0.1 \n",
    "\n",
    "    device = torch.device(\"cuda\" if torch.cuda.is_available() else \"cpu\")\n",
    "    print(f\"Using device: {device}\")\n",
    "\n",
    "\n",
    "\n",
    "    full_df = pd.read_csv('kingbase_processed_all.csv')\n",
    "    train_val_df, test_df = train_test_split(full_df, test_size=TEST_SIZE, random_state=42)\n",
    "    train_df, val_df = train_test_split(train_val_df, test_size=(VAL_SIZE / (1 - TEST_SIZE)), random_state=42)\n",
    "\n",
    "\n",
    "    dataset = GraphChessDataset(dataframe=train_df)\n",
    "    data_loader = DataLoader(\n",
    "        dataset,\n",
    "        batch_size=BATCH_SIZE,\n",
    "        shuffle=True,\n",
    "        collate_fn=collate_graph_data\n",
    "    )\n",
    "\n",
    "    model = ChessGNN(\n",
    "        node_in_features=NODE_IN_FEATURES,\n",
    "        edge_in_features=EDGE_IN_FEATURES,\n",
    "        gnn_hidden_features=GNN_NODE_OUT_FEATURES,\n",
    "        num_possible_moves=NUM_POSSIBLE_MOVES,\n",
    "    ).to(device)\n",
    "\n",
    "    optimizer = optim.Adam(model.parameters(), lr=LEARNING_RATE)\n",
    "    policy_loss_fn = nn.CrossEntropyLoss()\n",
    "    value_loss_fn = nn.MSELoss()\n",
    "\n",
    "    start_epoch = 0\n",
    "    os.makedirs(checkpoint_dir, exist_ok=True)\n",
    "    \n",
    "    latest_checkpoint_path = None\n",
    "    if os.listdir(checkpoint_dir):\n",
    "        checkpoint_files = [f for f in os.listdir(checkpoint_dir) if f.startswith('checkpoint_epoch_') and f.endswith('.pth')]\n",
    "        if checkpoint_files:\n",
    "            latest_epoch = max([int(f.split('_')[-1].split('.')[0]) for f in checkpoint_files])\n",
    "            latest_checkpoint_path = os.path.join(checkpoint_dir, f'checkpoint_epoch_{latest_epoch}.pth')\n",
    "\n",
    "    if latest_checkpoint_path:\n",
    "        print(f\"Resuming training from checkpoint: {latest_checkpoint_path}\")\n",
    "        checkpoint = torch.load(latest_checkpoint_path, map_location=device)\n",
    "        \n",
    "        model.load_state_dict(checkpoint['model_state_dict'])\n",
    "        optimizer.load_state_dict(checkpoint['optimizer_state_dict'])\n",
    "        start_epoch = checkpoint['epoch'] \n",
    "        print(f\"Loaded model state from epoch {checkpoint['epoch']}. Starting from epoch {start_epoch + 1}.\")\n",
    "    else:\n",
    "        print(\"No checkpoint found. Starting training from scratch.\")\n",
    "\n",
    "\n",
    "    print(\"Starting training...\")\n",
    "    total, trainable = count_parameters(model)\n",
    "    print(f\"Total parameters: {total:,}\")\n",
    "    print(f\"Trainable parameters: {trainable:,}\\n\\n\")\n",
    "    for epoch in range(start_epoch, EPOCHS):\n",
    "        model.train()\n",
    "        total_loss = 0.0\n",
    "\n",
    "        progress_bar = tqdm(data_loader, desc=f\"Epoch [{epoch+1}/{EPOCHS}]\", leave=False)\n",
    "        \n",
    "        for batched_graph_data, policy_targets, value_targets in progress_bar:\n",
    "            node_features = batched_graph_data[\"node_feature_matrix\"].to(device)\n",
    "            edge_features = batched_graph_data[\"edge_feature_matrix\"].to(device)\n",
    "            edge_index = batched_graph_data[\"edge_index\"].to(device)\n",
    "            edge_map = batched_graph_data[\"edge_map\"].to(device)\n",
    "            policy_targets = policy_targets.to(device)\n",
    "            value_targets = value_targets.to(device).float() \n",
    "            \n",
    "            current_batch_size = len(policy_targets)\n",
    "\n",
    "            optimizer.zero_grad()\n",
    "\n",
    "            policy_logits, value_pred = model(\n",
    "                node_feature_matrix=node_features,\n",
    "                edge_feature_matrix=edge_features,\n",
    "                edge_index=edge_index,\n",
    "                edge_map=edge_map,\n",
    "                batch_size=current_batch_size\n",
    "            )\n",
    "\n",
    "            loss_policy = policy_loss_fn(policy_logits, policy_targets)\n",
    "            loss_value = value_loss_fn(value_pred, value_targets)\n",
    "            combined_loss = loss_policy + loss_value\n",
    "\n",
    "            combined_loss.backward()\n",
    "            optimizer.step()\n",
    "\n",
    "            total_loss += combined_loss.item()\n",
    "            progress_bar.set_postfix(loss=combined_loss.item())\n",
    "\n",
    "        avg_loss = total_loss / len(data_loader)\n",
    "        print(f\"Epoch [{epoch+1}/{EPOCHS}], Average Loss: {avg_loss:.4f}\")\n",
    "\n",
    "        checkpoint_path = os.path.join(checkpoint_dir, f'checkpoint_epoch_{epoch+1}.pth')\n",
    "        torch.save({\n",
    "            'epoch': epoch + 1,\n",
    "            'model_state_dict': model.state_dict(),\n",
    "            'optimizer_state_dict': optimizer.state_dict(),\n",
    "            'loss': avg_loss,\n",
    "        }, checkpoint_path)\n",
    "        print(f\"Checkpoint saved to {checkpoint_path}\")\n",
    "\n",
    "\n",
    "    print(\"Training finished.\")\n",
    "\n",
    "if __name__ == '__main__':\n",
    "    print(\"Training script is defined. Uncomment 'train_chess_model()' to run.\")\n",
    "    train_chess_model()"
   ]
  },
  {
   "cell_type": "code",
   "execution_count": 9,
   "id": "667fe7ae",
   "metadata": {},
   "outputs": [],
   "source": [
    "def load_trained_model(checkpoint_path, device):\n",
    "\n",
    "    NODE_IN_FEATURES = 21   \n",
    "    EDGE_IN_FEATURES = 11   \n",
    "    GNN_NODE_OUT_FEATURES = 64 \n",
    "    NUM_POSSIBLE_MOVES = 1792 \n",
    "    \n",
    "    model = ChessGNN(\n",
    "        node_in_features=NODE_IN_FEATURES,\n",
    "        edge_in_features=EDGE_IN_FEATURES,\n",
    "        gnn_hidden_features=GNN_NODE_OUT_FEATURES,\n",
    "        num_possible_moves=NUM_POSSIBLE_MOVES\n",
    "    )\n",
    "    \n",
    "\n",
    "    try:\n",
    "        checkpoint = torch.load(checkpoint_path, map_location=device)\n",
    "    except FileNotFoundError:\n",
    "        print(f\"Error: Checkpoint file not found at {checkpoint_path}\")\n",
    "        return None\n",
    "        \n",
    "    model.load_state_dict(checkpoint['model_state_dict'])\n",
    "    \n",
    "    model.to(device)\n",
    "    \n",
    "    model.eval()\n",
    "    \n",
    "    print(f\"Model loaded from {checkpoint_path} and is ready for inference.\")\n",
    "    return model"
   ]
  }
 ],
 "metadata": {
  "kernelspec": {
   "display_name": "pytorchGPU",
   "language": "python",
   "name": "python3"
  },
  "language_info": {
   "codemirror_mode": {
    "name": "ipython",
    "version": 3
   },
   "file_extension": ".py",
   "mimetype": "text/x-python",
   "name": "python",
   "nbconvert_exporter": "python",
   "pygments_lexer": "ipython3",
   "version": "3.12.11"
  }
 },
 "nbformat": 4,
 "nbformat_minor": 5
}
