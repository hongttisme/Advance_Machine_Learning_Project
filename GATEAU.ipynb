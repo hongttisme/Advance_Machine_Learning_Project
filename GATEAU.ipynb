{
 "cells": [
  {
   "cell_type": "code",
   "execution_count": null,
   "id": "f1d48b93",
   "metadata": {},
   "outputs": [],
   "source": [
    "from graph_encode import base_graph_edges,move_to_index,index_to_move,adjacency_list, node_feature_matrix,edge_feature_matrix "
   ]
  },
  {
   "cell_type": "code",
   "execution_count": null,
   "id": "29a86af9",
   "metadata": {},
   "outputs": [],
   "source": [
    "import numpy as np\n",
    "import torch\n",
    "\n",
    "Wu = torch.randn(21, 11)\n",
    "We = torch.randn(11, 11)\n",
    "Wv = torch.randn(21, 11)\n",
    "Wq = torch.randn(21, 3)\n",
    "W0 = torch.randn(21, 21)\n",
    "Wh = torch.randn(21, 21)\n",
    "Wg = torch.randn(11, 21)\n",
    "a = torch.randn(11)\n",
    "\n",
    "node_feature_matrix = torch.tensor(node_feature_matrix)\n",
    "edge_feature_matrix = torch.tensor(edge_feature_matrix)\n"
   ]
  },
  {
   "cell_type": "code",
   "execution_count": 7,
   "id": "e285126c",
   "metadata": {},
   "outputs": [
    {
     "data": {
      "text/plain": [
       "torch.Size([64, 21])"
      ]
     },
     "execution_count": 7,
     "metadata": {},
     "output_type": "execute_result"
    }
   ],
   "source": [
    "node_feature_matrix.shape"
   ]
  },
  {
   "cell_type": "code",
   "execution_count": 8,
   "id": "2c8d6e68",
   "metadata": {},
   "outputs": [],
   "source": [
    "import torch\n",
    "import torch.nn as nn\n",
    "import torch.nn.functional as F\n",
    "leaky_relu = nn.LeakyReLU(negative_slope=0.01)"
   ]
  },
  {
   "cell_type": "code",
   "execution_count": null,
   "id": "435e1ebd",
   "metadata": {},
   "outputs": [
    {
     "name": "stdout",
     "output_type": "stream",
     "text": [
      "torch.Size([28])\n",
      "torch.Size([34])\n",
      "torch.Size([35])\n",
      "torch.Size([35])\n",
      "torch.Size([35])\n",
      "torch.Size([35])\n",
      "torch.Size([34])\n",
      "torch.Size([28])\n",
      "torch.Size([28])\n",
      "torch.Size([35])\n",
      "torch.Size([37])\n",
      "torch.Size([37])\n",
      "torch.Size([37])\n",
      "torch.Size([37])\n",
      "torch.Size([35])\n",
      "torch.Size([28])\n",
      "torch.Size([28])\n",
      "torch.Size([35])\n",
      "torch.Size([39])\n",
      "torch.Size([39])\n",
      "torch.Size([39])\n",
      "torch.Size([39])\n",
      "torch.Size([35])\n",
      "torch.Size([28])\n",
      "torch.Size([28])\n",
      "torch.Size([35])\n",
      "torch.Size([39])\n",
      "torch.Size([41])\n",
      "torch.Size([41])\n",
      "torch.Size([39])\n",
      "torch.Size([35])\n",
      "torch.Size([28])\n",
      "torch.Size([28])\n",
      "torch.Size([35])\n",
      "torch.Size([39])\n",
      "torch.Size([41])\n",
      "torch.Size([41])\n",
      "torch.Size([39])\n",
      "torch.Size([35])\n",
      "torch.Size([28])\n",
      "torch.Size([28])\n",
      "torch.Size([35])\n",
      "torch.Size([39])\n",
      "torch.Size([39])\n",
      "torch.Size([39])\n",
      "torch.Size([39])\n",
      "torch.Size([35])\n",
      "torch.Size([28])\n",
      "torch.Size([28])\n",
      "torch.Size([35])\n",
      "torch.Size([37])\n",
      "torch.Size([37])\n",
      "torch.Size([37])\n",
      "torch.Size([37])\n",
      "torch.Size([35])\n",
      "torch.Size([28])\n",
      "torch.Size([28])\n",
      "torch.Size([34])\n",
      "torch.Size([35])\n",
      "torch.Size([35])\n",
      "torch.Size([35])\n",
      "torch.Size([35])\n",
      "torch.Size([34])\n",
      "torch.Size([28])\n"
     ]
    },
    {
     "name": "stderr",
     "output_type": "stream",
     "text": [
      "C:\\Users\\tan04\\AppData\\Local\\Temp\\ipykernel_7312\\706452266.py:13: UserWarning: Implicit dimension choice for softmax has been deprecated. Change the call to include dim=X as an argument.\n",
      "  print(F.softmax(gilist).shape)\n"
     ]
    }
   ],
   "source": [
    "for i, neighborhood in enumerate(adjacency_list):\n",
    "    gilist = []\n",
    "    value_list = []\n",
    "    for j, (node_index, edge_index) in enumerate(neighborhood):\n",
    "        gijnew = (\n",
    "            node_feature_matrix[i] @ Wu +\n",
    "            edge_feature_matrix[edge_index] @ We +\n",
    "            node_feature_matrix[node_index] @ Wv\n",
    "        )\n",
    "        # print(a @ gijnew)       \n",
    "        # print(leaky_relu(a @ gijnew))\n",
    "        gilist.append(leaky_relu(a @ gijnew))\n",
    "        value_list.append(node_feature_matrix[node_index] @ Wh + edge_feature_matrix[edge_index] @ Wg)\n",
    "    gilist = torch.tensor(gilist)\n",
    "    value_list =\n",
    "    hew_i = node_feature_matrix[i] @ W0 + F.softmax(gilist) @ "
   ]
  },
  {
   "cell_type": "code",
   "execution_count": 20,
   "id": "c787c8aa",
   "metadata": {},
   "outputs": [
    {
     "name": "stdout",
     "output_type": "stream",
     "text": [
      "tensor([ 2.4274e+01,  1.5476e+01, -2.0496e-02,  1.7685e+01,  1.0581e+01,\n",
      "        -5.8695e-02,  1.6362e+01,  1.2027e+01, -4.4226e-02,  1.1869e+01,\n",
      "         1.0303e+01, -6.1469e-02,  1.7284e+01,  8.5790e+00, -7.8711e-02,\n",
      "         2.8819e+00,  6.3184e+00, -9.5953e-02,  1.4232e+01,  7.1913e+00,\n",
      "         4.4220e+00,  8.4115e+00,  5.3177e-01, -3.0076e-02, -4.0128e-02,\n",
      "        -5.4279e-02, -1.1315e-01, -1.0385e-01])\n"
     ]
    }
   ],
   "source": [
    "print(gilist)"
   ]
  },
  {
   "cell_type": "code",
   "execution_count": null,
   "id": "922970ad",
   "metadata": {},
   "outputs": [
    {
     "name": "stdout",
     "output_type": "stream",
     "text": [
      "Attention shape: torch.Size([64, 41])\n"
     ]
    }
   ],
   "source": [
    "h_transformed = node_feature_matrix @ Wu  # shape [N, H]\n",
    "h_v = node_feature_matrix @ Wv            # shape [N, H]\n",
    "e_transformed = edge_feature_matrix @ We  # shape [E, H]\n",
    "\n",
    "\n",
    "\n",
    "for i, neighborhood in enumerate(adjacency_list):\n",
    "    for j, e in neighborhood:\n",
    "        \n",
    "\n"
   ]
  },
  {
   "cell_type": "code",
   "execution_count": 21,
   "id": "d7b7d04f",
   "metadata": {},
   "outputs": [
    {
     "name": "stdout",
     "output_type": "stream",
     "text": [
      "tensor([ True,  True,  True,  True,  True,  True,  True,  True,  True,  True,\n",
      "         True,  True,  True,  True,  True,  True,  True,  True,  True,  True,\n",
      "         True,  True,  True,  True,  True,  True,  True,  True,  True,  True,\n",
      "         True,  True,  True,  True, False, False, False, False, False, False,\n",
      "        False])\n",
      "tensor(34)\n",
      "tensor([9.9714e-01, 1.5058e-04, 2.8039e-11, 1.3712e-03, 1.1266e-06, 2.6988e-11,\n",
      "        3.6542e-04, 4.7878e-06, 2.7381e-11, 4.0858e-06, 8.5372e-07, 2.6913e-11,\n",
      "        9.1873e-04, 1.5223e-07, 2.6453e-11, 5.1081e-10, 1.5875e-08, 2.6001e-11,\n",
      "        4.3413e-05, 3.8002e-08, 2.3830e-09, 1.2874e-07, 4.8709e-11, 2.7772e-11,\n",
      "        2.7494e-11, 2.7108e-11, 2.5558e-11, 2.5797e-11, 0.0000e+00, 0.0000e+00,\n",
      "        0.0000e+00, 0.0000e+00, 0.0000e+00, 0.0000e+00, 0.0000e+00, 0.0000e+00,\n",
      "        0.0000e+00, 0.0000e+00, 0.0000e+00, 0.0000e+00, 0.0000e+00])\n"
     ]
    }
   ],
   "source": [
    "print(attention[-2] > 0)\n",
    "print(sum(attention[-2] > 0))\n",
    "print(attention[-1])"
   ]
  },
  {
   "cell_type": "code",
   "execution_count": 17,
   "id": "fc9959b3",
   "metadata": {},
   "outputs": [
    {
     "data": {
      "text/plain": [
       "array([[-3.61198604, -1.93738445, -6.25167256],\n",
       "       [-4.07040313, -1.1615429 , -8.17957623],\n",
       "       [-3.93687297, -1.3179738 , -5.6887551 ],\n",
       "       [-4.71151851, -1.85908188, -5.9711774 ],\n",
       "       [-3.58888187, -0.80970125, -6.12105319],\n",
       "       [-3.78361643, -0.90080361, -5.83123073],\n",
       "       [-3.78361643, -0.90080361, -5.83123073],\n",
       "       [-3.61198604, -1.93738445, -6.25167256],\n",
       "       [-2.64527836, -2.03796463, -5.35594498],\n",
       "       [-2.64527836, -2.03796463, -5.35594498],\n",
       "       [-2.64527836, -2.03796463, -5.35594498],\n",
       "       [-2.64527836, -2.03796463, -5.35594498],\n",
       "       [-3.78361643, -0.90080361, -5.83123073],\n",
       "       [-2.64527836, -2.03796463, -5.35594498],\n",
       "       [-2.64527836, -2.03796463, -5.35594498],\n",
       "       [-2.64527836, -2.03796463, -5.35594498],\n",
       "       [-3.78361643, -0.90080361, -5.83123073],\n",
       "       [-3.78361643, -0.90080361, -5.83123073],\n",
       "       [-3.78361643, -0.90080361, -5.83123073],\n",
       "       [-3.78361643, -0.90080361, -5.83123073],\n",
       "       [-3.78361643, -0.90080361, -5.83123073],\n",
       "       [-4.07040313, -1.1615429 , -8.17957623],\n",
       "       [-3.78361643, -0.90080361, -5.83123073],\n",
       "       [-3.78361643, -0.90080361, -5.83123073],\n",
       "       [-3.78361643, -0.90080361, -5.83123073],\n",
       "       [-3.78361643, -0.90080361, -5.83123073],\n",
       "       [-3.78361643, -0.90080361, -5.83123073],\n",
       "       [-3.78361643, -0.90080361, -5.83123073],\n",
       "       [-2.64527836, -2.03796463, -5.35594498],\n",
       "       [-3.78361643, -0.90080361, -5.83123073],\n",
       "       [-3.78361643, -0.90080361, -5.83123073],\n",
       "       [-3.78361643, -0.90080361, -5.83123073],\n",
       "       [-3.78361643, -0.90080361, -5.83123073],\n",
       "       [-3.93687297, -1.3179738 , -5.6887551 ],\n",
       "       [-3.78361643, -0.90080361, -5.83123073],\n",
       "       [-3.78361643, -0.90080361, -5.83123073],\n",
       "       [-3.96509218,  0.29716172, -6.75594864],\n",
       "       [-3.78361643, -0.90080361, -5.83123073],\n",
       "       [-3.78361643, -0.90080361, -5.83123073],\n",
       "       [-3.78361643, -0.90080361, -5.83123073],\n",
       "       [-3.78361643, -0.90080361, -5.83123073],\n",
       "       [-3.78361643, -0.90080361, -5.83123073],\n",
       "       [-3.77768334, -0.38172064, -4.49763145],\n",
       "       [-3.78361643, -0.90080361, -5.83123073],\n",
       "       [-3.78361643, -0.90080361, -5.83123073],\n",
       "       [-3.78361643, -0.90080361, -5.83123073],\n",
       "       [-3.78361643, -0.90080361, -5.83123073],\n",
       "       [-3.78361643, -0.90080361, -5.83123073],\n",
       "       [-3.96509218,  0.29716172, -6.75594864],\n",
       "       [-3.96509218,  0.29716172, -6.75594864],\n",
       "       [-3.96509218,  0.29716172, -6.75594864],\n",
       "       [-3.96509218,  0.29716172, -6.75594864],\n",
       "       [-3.78361643, -0.90080361, -5.83123073],\n",
       "       [-3.96509218,  0.29716172, -6.75594864],\n",
       "       [-3.96509218,  0.29716172, -6.75594864],\n",
       "       [-3.96509218,  0.29716172, -6.75594864],\n",
       "       [-4.61674952, -1.92570006, -4.39962507],\n",
       "       [-3.78361643, -0.90080361, -5.83123073],\n",
       "       [-2.85716603, -0.28806895, -7.37350221],\n",
       "       [-5.24820972,  0.45153991, -5.6704507 ],\n",
       "       [-3.43577709, -1.66180272, -5.69701625],\n",
       "       [-2.85716603, -0.28806895, -7.37350221],\n",
       "       [-3.77768334, -0.38172064, -4.49763145],\n",
       "       [-4.61674952, -1.92570006, -4.39962507]])"
      ]
     },
     "execution_count": 17,
     "metadata": {},
     "output_type": "execute_result"
    }
   ],
   "source": [
    "node_feature_matrix @ Wq"
   ]
  },
  {
   "cell_type": "code",
   "execution_count": null,
   "id": "60414af6",
   "metadata": {},
   "outputs": [],
   "source": []
  }
 ],
 "metadata": {
  "kernelspec": {
   "display_name": "pytorchGPU",
   "language": "python",
   "name": "python3"
  },
  "language_info": {
   "codemirror_mode": {
    "name": "ipython",
    "version": 3
   },
   "file_extension": ".py",
   "mimetype": "text/x-python",
   "name": "python",
   "nbconvert_exporter": "python",
   "pygments_lexer": "ipython3",
   "version": "3.12.11"
  }
 },
 "nbformat": 4,
 "nbformat_minor": 5
}
